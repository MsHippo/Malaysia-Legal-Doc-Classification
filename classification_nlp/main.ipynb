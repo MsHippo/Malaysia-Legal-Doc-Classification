{
 "cells": [
  {
   "cell_type": "code",
   "execution_count": 3,
   "id": "eaca9a54",
   "metadata": {},
   "outputs": [],
   "source": [
    "import string, re\n",
    "import pandas as pd, numpy as np\n",
    "import PyPDF2\n",
    "import os, pickle\n",
    "import pdftotext"
   ]
  },
  {
   "cell_type": "code",
   "execution_count": 4,
   "id": "48e59d16",
   "metadata": {},
   "outputs": [],
   "source": [
    "def read_pdf(file_path):\n",
    "#     file_path = str(input(\"Enter training directory path: \\n\"))\n",
    "    files_list = []\n",
    "    # PDF documents filepath\n",
    "    for root, dirs, files in os.walk(file_path):\n",
    "        for file in files:\n",
    "            if file.endswith(\".pdf\"):\n",
    "                files_list.append(os.path.join(root, file))\n",
    "    return files_list\n",
    "#     for file in files_list:\n",
    "#         print(file)\n",
    "    "
   ]
  },
  {
   "cell_type": "code",
   "execution_count": 5,
   "id": "5e1a7138",
   "metadata": {},
   "outputs": [],
   "source": [
    "def extract_pdf_content(parent_dir, directory,  file_name):\n",
    "    # Path\n",
    "    path = os.path.join(parent_dir, directory)\n",
    "    if not os.path.exists(path):\n",
    "        os.mkdir(path)\n",
    "#     print(\"Directory '% s' created\" % path)\n",
    "#     print(\"file_name '% s' created\" % file_name)\n",
    "#     file_name = head_list[8]\n",
    "    new_files_path = path + \"/\"+ file_name +'.file'\n",
    "    # Save all text to a txt file.\n",
    "    with open(new_files_path, 'w', encoding='utf-8') as f:\n",
    "        f.write(\"\\n\\n\".join(pdf))\n",
    "        print(\"Files '% s' created\" % file_name)"
   ]
  },
  {
   "cell_type": "code",
   "execution_count": 6,
   "id": "34910508",
   "metadata": {},
   "outputs": [
    {
     "name": "stdout",
     "output_type": "stream",
     "text": [
      "Enter training directory path: \n",
      "C:\\Users\\heihe\\Desktop\\Malaysia-Legal-Doc-Classification\\classification_nlp\\training_data_pdf\n"
     ]
    }
   ],
   "source": [
    "training_files_path = str(input(\"Enter training directory path: \\n\"))\n",
    "# read_pdf(file_path)"
   ]
  },
  {
   "cell_type": "code",
   "execution_count": 7,
   "id": "3f0220c1",
   "metadata": {},
   "outputs": [
    {
     "name": "stdout",
     "output_type": "stream",
     "text": [
      "Files 'CLJ_2003_4_409_psb' created\n",
      "Files 'CLJ_2010_2_1_psb' created\n",
      "Files 'CLJ_2019_4_705_psb' created\n",
      "Files 'CLJ_2019_4_723_psb' created\n",
      "Files 'CLJ_2019_4_799_psb' created\n",
      "Files 'CLJ_2019_5_23_psb' created\n",
      "Files 'CLJ_2019_5_93_psb' created\n",
      "Files 'CLJ_2015_8_329_psb' created\n",
      "Files 'CLJ_2018_3_662_psb' created\n",
      "Files 'CLJ_2018_5_326_psb' created\n",
      "Files 'LNS_2015_1_1208_psb' created\n",
      "Files 'LNS_2015_1_668_psb' created\n",
      "Files 'CLJ_2017_10_1_psb' created\n",
      "Files 'CLJ_2018_4_236_psb' created\n",
      "Files 'CLJ_2019_1_748_psb' created\n",
      "Files 'CLJ_2019_3_325_psb' created\n",
      "Files 'CLJ_2018_6_257_psb' created\n",
      "Files 'CLJ_2018_7_501_psb' created\n",
      "Files 'CLJ_2019_2_772_psb' created\n",
      "Files 'CLJ_2019_5_780_psb' created\n",
      "Files 'LNS_2017_1_54_psb' created\n",
      "Files 'CLJ_2012_10_96_psb' created\n",
      "Files 'CLJ_2013_9_287_psb' created\n",
      "Files 'CLJ_2015_2_889_psb' created\n",
      "Files 'CLJ_2013_4_613_psb' created\n",
      "Files 'CLJ_2013_5_751_psb' created\n",
      "Files 'CLJ_2013_8_834_psb' created\n",
      "Files 'CLJ_2015_4_446_psb' created\n",
      "Files 'CLJ_2015_6_464_psb' created\n",
      "Files 'CLJ_2014_6_110_psb' created\n",
      "Files 'CLJ_2015_1_678_psb' created\n",
      "Files 'CLJ_2017_5_44_psb' created\n",
      "Files 'CLJ_2017_7_703_psb' created\n",
      "Files 'CLJ_2018_3_681_psb' created\n",
      "Files 'CLJ_2018_4_110_psb' created\n",
      "Files 'CLJ_2018_6_436_psb' created\n",
      "Files 'CLJ_2018_10_562_psb' created\n",
      "Files 'CLJ_2018_10_597_psb' created\n",
      "Files 'CLJ_2018_9_265_psb' created\n",
      "Files 'CLJ_2019_1_526_psb' created\n",
      "Files 'CLJ_2006_5_345_psb' created\n",
      "Files 'LNS_2000_1_9_psb' created\n",
      "Files 'CLJ_2014_6_134_psb' created\n",
      "Files 'CLJ_2016_8_15_psb' created\n",
      "Files 'CLJ_2017_4_91_psb' created\n"
     ]
    }
   ],
   "source": [
    "\n",
    "for file in read_pdf(training_files_path):\n",
    "#     print(files_list)\n",
    "    content_data= \"\"\n",
    "#     Legal_PDF_file = open(file, 'rb')\n",
    "    # Load your PDF\n",
    "    with open(file, \"rb\") as f:\n",
    "        pdf = pdftotext.PDF(f)\n",
    "#     file_name = os.path.splitext(file)[0]\n",
    "    head, tail = os.path.splitext(file)\n",
    "#     print(file_name)\n",
    "    head_list = head.split(os.sep)\n",
    "    extract_pdf_content(str(r\"C:/Users/heihe/Desktop/Malaysia-Legal-Doc-Classification/classification_nlp/training_data/\"), head_list[7], head_list[8])"
   ]
  },
  {
   "cell_type": "code",
   "execution_count": 33,
   "id": "f56ebe5a",
   "metadata": {},
   "outputs": [
    {
     "name": "stdout",
     "output_type": "stream",
     "text": [
      "Enter testing directory path: \n",
      "C:\\Users\\heihe\\Desktop\\Malaysia-Legal-Doc-Classification\\classification_nlp\\testing_data_pdf\n"
     ]
    }
   ],
   "source": [
    "testing_files_path = str(input(\"Enter testing directory path: \\n\"))"
   ]
  },
  {
   "cell_type": "code",
   "execution_count": 34,
   "id": "9d9c096d",
   "metadata": {},
   "outputs": [
    {
     "name": "stdout",
     "output_type": "stream",
     "text": [
      "Files 'CLJ_2012_1_358_psb' created\n",
      "Files 'LNS_2017_1_781_psb' created\n",
      "Files 'CLJ_2019_5_165_psb' created\n",
      "Files 'CLJ_2019_5_217_psb' created\n",
      "Files 'CLJ_2019_5_293_psb' created\n",
      "Files 'CLJ_2019_5_355_psb' created\n",
      "Files 'CLJ_2019_6_561_psb' created\n",
      "Files 'LNS_2016_1_1067_psb' created\n",
      "Files 'LNS_2017_1_164_psb' created\n",
      "Files 'LNS_2017_1_1804_psb' created\n",
      "Files 'LNS_2017_1_46_psb' created\n",
      "Files 'LNS_2017_1_2103_psb' created\n",
      "Files 'LNS_2018_1_240_psb' created\n",
      "Files 'LNS_2018_1_520_psb' created\n",
      "Files 'LNS_2017_1_1090_psb' created\n",
      "Files 'LNS_2017_1_1804_psb' created\n",
      "Files 'LNS_2017_1_2044_psb' created\n",
      "Files 'LNS_2017_1_2045_psb' created\n",
      "Files 'LNS_2018_1_371_psb' created\n",
      "Files 'CLJ_2019_6_325_psb' created\n",
      "Files 'LNS_2017_1_1322_psb' created\n",
      "Files 'CLJ_2015_10_48_psb' created\n",
      "Files 'CLJ_2018_10_628_psb' created\n",
      "Files 'LNS_2012_1_603_psb' created\n",
      "Files 'LNS_2013_1_1386_psb' created\n",
      "Files 'LNS_2016_1_1067_psb' created\n",
      "Files 'CLJ_2018_8_327_psb' created\n",
      "Files 'CLJ_2019_5_339_psb' created\n",
      "Files 'CLJ_2018_10_36_psb' created\n",
      "Files 'LNS_2017_1_1010_psb' created\n",
      "Files 'LNS_2017_1_781_psb' created\n",
      "Files 'CLJ_2019_3_360_psb' created\n",
      "Files 'CLJ_2019_3_360_psb' created\n",
      "Files 'CLJ_2018_10_742_psb' created\n",
      "Files 'CLJ_2018_3_1_psb' created\n"
     ]
    }
   ],
   "source": [
    "for file in read_pdf(testing_files_path):\n",
    "#     print(files_list)\n",
    "    content_data= \"\"\n",
    "#     Legal_PDF_file = open(file, 'rb')\n",
    "    # Load your PDF\n",
    "    with open(file, \"rb\") as f:\n",
    "        pdf = pdftotext.PDF(f)\n",
    "#     file_name = os.path.splitext(file)[0]\n",
    "    head, tail = os.path.splitext(file)\n",
    "#     print(file_name)\n",
    "    head_list = head.split(os.sep)\n",
    "    extract_pdf_content(str(r\"C:/Users/heihe/Desktop/Malaysia-Legal-Doc-Classification/classification_nlp/testing_data/\"),head_list[7], head_list[8])"
   ]
  },
  {
   "cell_type": "markdown",
   "id": "77c45485",
   "metadata": {},
   "source": [
    "# Naive Bayes"
   ]
  },
  {
   "cell_type": "code",
   "execution_count": 35,
   "id": "9a02a618",
   "metadata": {},
   "outputs": [
    {
     "name": "stdout",
     "output_type": "stream",
     "text": [
      "categories = ['Abetment', 'Charges', 'Common intention', 'Corruption', 'Dangerous Drugs', 'Defence', 'Firearms', 'Money Laundering', 'Murder', 'Offences', 'Rape', 'Sedition']\n"
     ]
    }
   ],
   "source": [
    "categories = []\n",
    "for root, dirs, files in os.walk(training_files_path):\n",
    "    for i in range (len(dirs)):\n",
    "        categories.append (dirs[i])\n",
    "print (f\"categories = {categories}\")"
   ]
  },
  {
   "cell_type": "code",
   "execution_count": 36,
   "id": "32a3988c",
   "metadata": {},
   "outputs": [],
   "source": [
    "import sklearn.datasets as skd\n",
    "\n",
    "news_train = skd.load_files('C:/Users/heihe/Desktop/Malaysia-Legal-Doc-Classification/classification_nlp/training_data', categories= categories, encoding= 'ISO-8859-1')\n",
    "news_test = skd.load_files('C:/Users/heihe/Desktop/Malaysia-Legal-Doc-Classification/classification_nlp/testing_data',categories= categories, encoding= 'ISO-8859-1')"
   ]
  },
  {
   "cell_type": "code",
   "execution_count": 39,
   "id": "b64ad34f",
   "metadata": {},
   "outputs": [],
   "source": [
    "from sklearn.pipeline import Pipeline\n",
    "from sklearn.feature_extraction.text import TfidfVectorizer\n",
    "from sklearn.naive_bayes import MultinomialNB\n",
    "\n",
    "text_clf = Pipeline([('vect', TfidfVectorizer()), \n",
    "                      ('clf', MultinomialNB()) ])\n"
   ]
  },
  {
   "cell_type": "code",
   "execution_count": 40,
   "id": "ec276ad1",
   "metadata": {},
   "outputs": [],
   "source": [
    "# train the model\n",
    "text_clf.fit(news_train.data, news_train.target)\n",
    "# Predict the test cases\n",
    "predicted = text_clf.predict(news_test.data)\n"
   ]
  },
  {
   "cell_type": "code",
   "execution_count": 41,
   "id": "f2559658",
   "metadata": {},
   "outputs": [
    {
     "name": "stdout",
     "output_type": "stream",
     "text": [
      "Accuracy achieved is 0.37142857142857144\n",
      "                  precision    recall  f1-score   support\n",
      "\n",
      "        Abetment       0.00      0.00      0.00         2\n",
      "         Charges       0.62      1.00      0.77         5\n",
      "Common intention       0.18      1.00      0.31         4\n",
      "      Corruption       0.00      0.00      0.00         3\n",
      " Dangerous Drugs       0.00      0.00      0.00         5\n",
      "         Defence       0.00      0.00      0.00         2\n",
      "        Firearms       1.00      0.60      0.75         5\n",
      "Money Laundering       0.00      0.00      0.00         2\n",
      "          Murder       0.50      0.33      0.40         3\n",
      "        Offences       0.00      0.00      0.00         1\n",
      "            Rape       0.00      0.00      0.00         1\n",
      "        Sedition       0.00      0.00      0.00         2\n",
      "\n",
      "        accuracy                           0.37        35\n",
      "       macro avg       0.19      0.24      0.19        35\n",
      "    weighted avg       0.30      0.37      0.29        35\n",
      "\n"
     ]
    },
    {
     "name": "stderr",
     "output_type": "stream",
     "text": [
      "C:\\Users\\heihe\\anaconda3\\envs\\MyDocClass\\lib\\site-packages\\sklearn\\metrics\\_classification.py:1248: UndefinedMetricWarning: Precision and F-score are ill-defined and being set to 0.0 in labels with no predicted samples. Use `zero_division` parameter to control this behavior.\n",
      "  _warn_prf(average, modifier, msg_start, len(result))\n",
      "C:\\Users\\heihe\\anaconda3\\envs\\MyDocClass\\lib\\site-packages\\sklearn\\metrics\\_classification.py:1248: UndefinedMetricWarning: Precision and F-score are ill-defined and being set to 0.0 in labels with no predicted samples. Use `zero_division` parameter to control this behavior.\n",
      "  _warn_prf(average, modifier, msg_start, len(result))\n",
      "C:\\Users\\heihe\\anaconda3\\envs\\MyDocClass\\lib\\site-packages\\sklearn\\metrics\\_classification.py:1248: UndefinedMetricWarning: Precision and F-score are ill-defined and being set to 0.0 in labels with no predicted samples. Use `zero_division` parameter to control this behavior.\n",
      "  _warn_prf(average, modifier, msg_start, len(result))\n"
     ]
    },
    {
     "data": {
      "text/plain": [
       "array([[0, 0, 2, 0, 0, 0, 0, 0, 0, 0, 0, 0],\n",
       "       [0, 5, 0, 0, 0, 0, 0, 0, 0, 0, 0, 0],\n",
       "       [0, 0, 4, 0, 0, 0, 0, 0, 0, 0, 0, 0],\n",
       "       [0, 0, 3, 0, 0, 0, 0, 0, 0, 0, 0, 0],\n",
       "       [0, 0, 5, 0, 0, 0, 0, 0, 0, 0, 0, 0],\n",
       "       [0, 0, 1, 0, 0, 0, 0, 0, 1, 0, 0, 0],\n",
       "       [0, 0, 2, 0, 0, 0, 3, 0, 0, 0, 0, 0],\n",
       "       [0, 2, 0, 0, 0, 0, 0, 0, 0, 0, 0, 0],\n",
       "       [0, 0, 2, 0, 0, 0, 0, 0, 1, 0, 0, 0],\n",
       "       [0, 0, 1, 0, 0, 0, 0, 0, 0, 0, 0, 0],\n",
       "       [0, 0, 1, 0, 0, 0, 0, 0, 0, 0, 0, 0],\n",
       "       [0, 1, 1, 0, 0, 0, 0, 0, 0, 0, 0, 0]], dtype=int64)"
      ]
     },
     "execution_count": 41,
     "metadata": {},
     "output_type": "execute_result"
    }
   ],
   "source": [
    "from sklearn import metrics\n",
    "from sklearn.metrics import accuracy_score\n",
    "import numpy as np\n",
    "\n",
    "print('Accuracy achieved is ' + str(np.mean(predicted == news_test.target)))\n",
    "print(metrics.classification_report(news_test.target, predicted, target_names=news_test.target_names)),\n",
    "metrics.confusion_matrix(news_test.target, predicted)"
   ]
  },
  {
   "cell_type": "code",
   "execution_count": null,
   "id": "27875f4d",
   "metadata": {},
   "outputs": [],
   "source": []
  }
 ],
 "metadata": {
  "kernelspec": {
   "display_name": "Python 3 (ipykernel)",
   "language": "python",
   "name": "python3"
  },
  "language_info": {
   "codemirror_mode": {
    "name": "ipython",
    "version": 3
   },
   "file_extension": ".py",
   "mimetype": "text/x-python",
   "name": "python",
   "nbconvert_exporter": "python",
   "pygments_lexer": "ipython3",
   "version": "3.9.7"
  }
 },
 "nbformat": 4,
 "nbformat_minor": 5
}
