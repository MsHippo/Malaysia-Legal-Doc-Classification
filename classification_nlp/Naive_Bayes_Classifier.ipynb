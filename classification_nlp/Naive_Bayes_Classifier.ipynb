{
 "cells": [
  {
   "cell_type": "code",
   "execution_count": null,
   "id": "2577781e",
   "metadata": {},
   "outputs": [],
   "source": [
    "import string, re\n",
    "import pandas as pd, numpy as np\n",
    "import PyPDF2\n",
    "import os, pickle\n",
    "import pdftotext\n",
    "import sklearn.datasets as skd\n",
    "from sklearn.pipeline import Pipeline\n",
    "from sklearn.feature_extraction.text import TfidfVectorizer\n",
    "from sklearn.naive_bayes import MultinomialNB"
   ]
  },
  {
   "cell_type": "code",
   "execution_count": null,
   "id": "eee64a88",
   "metadata": {},
   "outputs": [],
   "source": [
    "file_path = str(input(\"Enter training directory path: \\n\"))\n",
    "files_list = []\n",
    "# PDF documents filepath\n",
    "for root, dirs, files in os.walk(file_path):\n",
    "    for file in files:\n",
    "        if file.endswith(\".pdf\"):\n",
    "            files_list.append(os.path.join(root, file))\n",
    "            \n",
    "# for file in files_list:\n",
    "#     print(file)"
   ]
  },
  {
   "cell_type": "code",
   "execution_count": null,
   "id": "428f7195",
   "metadata": {},
   "outputs": [],
   "source": [
    "file_content = []\n",
    "for file in files_list:\n",
    "    content_data= \"\"\n",
    "#     Legal_PDF_file = open(file, 'rb')\n",
    "    # Load your PDF\n",
    "    with open(file, \"rb\") as f:\n",
    "        pdf = pdftotext.PDF(f)"
   ]
  },
  {
   "cell_type": "code",
   "execution_count": null,
   "id": "d6a9f007",
   "metadata": {},
   "outputs": [],
   "source": [
    "categories = ['alt.atheism', 'soc.religion.christian','comp.graphics', 'sci.med']\n",
    "news_train = skd.load_files('/home/ayush/Desktop/Fetch20newsgroup/train', categories= categories, encoding= 'ISO-8859-1')\n",
    "news_test = skd.load_files('/home/ayush/Desktop/Fetch20newsgroup/test/',categories= categories, encoding= 'ISO-8859-1')"
   ]
  },
  {
   "cell_type": "code",
   "execution_count": null,
   "id": "8a30a990",
   "metadata": {},
   "outputs": [],
   "source": [
    "text_clf = Pipeline([('vect', TfidfVectorizer()), \n",
    "                      ('clf', MultinomialNB()) ])"
   ]
  },
  {
   "cell_type": "code",
   "execution_count": null,
   "id": "08deeb03",
   "metadata": {},
   "outputs": [],
   "source": [
    "# train the model\n",
    "text_clf.fit(news_train.data, news_train.target)\n",
    "# Predict the test cases\n",
    "predicted = text_clf.predict(news_test.data)\n",
    "\n",
    "from sklearn import metrics\n",
    "from sklearn.metrics import accuracy_score\n",
    "import numpy as np\n",
    "\n",
    "print('Accuracy achieved is ' + str(np.mean(predicted == news_test.target)))\n",
    "print(metrics.classification_report(news_test.target, predicted, target_names=news_test.target_names)),\n",
    "metrics.confusion_matrix(news_test.target, predicted)"
   ]
  }
 ],
 "metadata": {
  "kernelspec": {
   "display_name": "Python 3 (ipykernel)",
   "language": "python",
   "name": "python3"
  },
  "language_info": {
   "codemirror_mode": {
    "name": "ipython",
    "version": 3
   },
   "file_extension": ".py",
   "mimetype": "text/x-python",
   "name": "python",
   "nbconvert_exporter": "python",
   "pygments_lexer": "ipython3",
   "version": "3.9.7"
  }
 },
 "nbformat": 4,
 "nbformat_minor": 5
}
