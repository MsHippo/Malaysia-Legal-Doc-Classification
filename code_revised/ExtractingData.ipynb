{
 "cells": [
  {
   "cell_type": "code",
   "execution_count": null,
   "id": "32af5489",
   "metadata": {},
   "outputs": [],
   "source": [
    "import string, re\n",
    "import pandas as pd, numpy as np\n",
    "import PyPDF2\n",
    "import os, pickle\n",
    "import pdftotext"
   ]
  },
  {
   "cell_type": "code",
   "execution_count": null,
   "id": "577f7da2",
   "metadata": {},
   "outputs": [],
   "source": [
    "def read_pdf(file_path):\n",
    "#     file_path = str(input(\"Enter training directory path: \\n\"))\n",
    "    files_list = []\n",
    "    # PDF documents filepath\n",
    "    for root, dirs, files in os.walk(file_path):\n",
    "        for file in files:\n",
    "            if file.endswith(\".pdf\"): #read all file end with pdf\n",
    "                files_list.append(os.path.join(root, file)) #store the read file name into a list\n",
    "    return files_list\n",
    "#     for file in files_list:\n",
    "#         print(file)"
   ]
  },
  {
   "cell_type": "code",
   "execution_count": null,
   "id": "aeeb2ddb",
   "metadata": {},
   "outputs": [],
   "source": [
    "def store_folder_file(parent_dir, directory,  file_name):\n",
    "    path = os.path.join(parent_dir, directory)\n",
    "    if not os.path.exists(path):\n",
    "        os.mkdir(path)\n",
    "#     print(\"Directory '% s' created\" % path)\n",
    "#     print(\"file_name '% s' created\" % file_name)\n",
    "#     file_name = head_list[8]\n",
    "#     new_files_path = path + \"/\"+ file_name +'.file'\n",
    "    new_files_path = path + \"/\"+ file_name +'.txt'\n",
    "    # Save all text to a txt file.\n",
    "    with open(new_files_path, 'w', encoding='utf-8') as f:\n",
    "        f.write(\"\\n\\n\".join(pdf))\n",
    "        print(\"Files '% s' created\" % file_name)"
   ]
  },
  {
   "cell_type": "code",
   "execution_count": null,
   "id": "2cd2cfe3",
   "metadata": {},
   "outputs": [],
   "source": [
    "training_files_path = str(input(\"Enter training directory path: \\n\"))\n",
    "# read_pdf(file_path)"
   ]
  },
  {
   "cell_type": "code",
   "execution_count": null,
   "id": "6dd6a192",
   "metadata": {},
   "outputs": [],
   "source": [
    "\n",
    "for file in read_pdf(training_files_path):\n",
    "#     print(files_list)\n",
    "    content_data= \"\"\n",
    "#     Legal_PDF_file = open(file, 'rb')\n",
    "    # Load your PDF\n",
    "    with open(file, \"rb\") as f:\n",
    "        pdf = pdftotext.PDF(f)\n",
    "#     file_name = os.path.splitext(file)[0]\n",
    "    head, tail = os.path.splitext(file)\n",
    "#     print(file_name)\n",
    "    head_list = head.split(os.sep)\n",
    "    store_folder_file(str(\n",
    "        r\"C:/Users/heihe/Desktop/Malaysia-Legal-Doc-Classification/classification_nlp/training_data_txt/\"), head_list[7], head_list[8])\n"
   ]
  }
 ],
 "metadata": {
  "interpreter": {
   "hash": "cd311c50a59f0664a8cfc3a3dd4a8680b27b6c0e2c0b8df60b88e17c4ee75699"
  },
  "kernelspec": {
   "display_name": "Python 3.9.7 64-bit ('MyDocClass': conda)",
   "name": "python3"
  },
  "language_info": {
   "codemirror_mode": {
    "name": "ipython",
    "version": 3
   },
   "file_extension": ".py",
   "mimetype": "text/x-python",
   "name": "python",
   "nbconvert_exporter": "python",
   "pygments_lexer": "ipython3",
   "version": "3.9.7"
  }
 },
 "nbformat": 4,
 "nbformat_minor": 5
}
