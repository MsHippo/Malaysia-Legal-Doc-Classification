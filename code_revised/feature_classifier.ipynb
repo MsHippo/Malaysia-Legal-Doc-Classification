{
 "cells": [
  {
   "cell_type": "code",
   "execution_count": 35,
   "metadata": {},
   "outputs": [],
   "source": [
    "from sklearn.model_selection import train_test_split\n",
    "import os\n",
    "import sklearn.datasets as skd"
   ]
  },
  {
   "cell_type": "code",
   "execution_count": 36,
   "metadata": {},
   "outputs": [
    {
     "name": "stdout",
     "output_type": "stream",
     "text": [
      "Number of legal case doc: 80\n",
      "Number of diffrent categories: 12\n"
     ]
    },
    {
     "data": {
      "text/plain": [
       "['Abetment',\n",
       " 'Charges',\n",
       " 'Common intention',\n",
       " 'Corruption',\n",
       " 'Dangerous Drugs',\n",
       " 'Defence',\n",
       " 'Firearms',\n",
       " 'Money Laundering',\n",
       " 'Murder',\n",
       " 'Offences',\n",
       " 'Rape',\n",
       " 'Sedition']"
      ]
     },
     "execution_count": 36,
     "metadata": {},
     "output_type": "execute_result"
    }
   ],
   "source": [
    "import sklearn.datasets as skd\n",
    "data_dir = r'C:\\Users\\heihe\\Desktop\\Malaysia-Legal-Doc-Classification\\code_revised\\combinned_data_txt'\n",
    "labels = os.listdir(data_dir)\n",
    "legal_doc = skd.load_files(data_dir, categories=labels)\n",
    "\n",
    "print(\"Number of legal case doc: \" + str(len(legal_doc.data)))\n",
    "print(\"Number of diffrent categories: \" + str(len(legal_doc.target_names)))\n",
    "\n",
    "legal_doc.target_names"
   ]
  },
  {
   "cell_type": "markdown",
   "metadata": {},
   "source": [
    "## Define training function, splitting the training and testing doc"
   ]
  },
  {
   "cell_type": "code",
   "execution_count": 37,
   "metadata": {},
   "outputs": [],
   "source": [
    "from sklearn.model_selection import train_test_split\n",
    "import time\n",
    "\n",
    "\n",
    "def train(classifier, X, y):\n",
    "    start = time.time()\n",
    "    # X_train, X_test, y_train, y_test = train_test_split(\n",
    "    #     X, y, test_size=0.2, random_state=42)\n",
    "\n",
    "    print(\"X_train: \", len(X_train))\n",
    "    print(\"y_train: \", y_train)\n",
    "    print(\"X_test: \", len(X_test))\n",
    "    print(\"y_test: \", y_test)\n",
    "\n",
    "    classifier.fit(X_train, y_train)\n",
    "    end = time.time()\n",
    "\n",
    "    print(\"Accuracy: \" + str(classifier.score(X_test, y_test)) +\n",
    "          \", Time duration: \" + str(end - start))\n",
    "    return classifier\n"
   ]
  },
  {
   "cell_type": "markdown",
   "metadata": {},
   "source": [
    "## Not splitting the data but load the separated data corpus"
   ]
  },
  {
   "cell_type": "code",
   "execution_count": 38,
   "metadata": {},
   "outputs": [],
   "source": [
    "def size_mb(docs):\n",
    "    return sum(len(s.encode('utf-8')) for s in docs) / 1e6"
   ]
  },
  {
   "cell_type": "code",
   "execution_count": 39,
   "metadata": {},
   "outputs": [],
   "source": [
    "def load_testing_data (test_dir):\n",
    "    legal_test = skd.load_files(test_dir, categories=labels, encoding='utf-8')\n",
    "    return legal_test\n"
   ]
  },
  {
   "cell_type": "code",
   "execution_count": 40,
   "metadata": {},
   "outputs": [],
   "source": [
    "def load_training_data(train_dir):\n",
    "    legal_train = skd.load_files(\n",
    "        train_dir,  categories=labels, encoding='utf-8')\n",
    "    return legal_train"
   ]
  },
  {
   "cell_type": "code",
   "execution_count": 41,
   "metadata": {},
   "outputs": [
    {
     "name": "stdout",
     "output_type": "stream",
     "text": [
      "test data loaded\n",
      "62 documents - 3.013MB (training set)\n",
      "18 documents - 0.916MB (test set)\n",
      "12 categories\n"
     ]
    }
   ],
   "source": [
    "data_train = load_training_data(\n",
    "    r'C:\\Users\\heihe\\Desktop\\Malaysia-Legal-Doc-Classification\\code_revised\\training_data_txt')\n",
    "data_test = load_testing_data(\n",
    "    r'C:\\Users\\heihe\\Desktop\\Malaysia-Legal-Doc-Classification\\code_revised\\testing_data_txt')\n",
    "\n",
    "print('test data loaded')\n",
    "\n",
    "data_train_size_mb = size_mb(str(data_train.data))\n",
    "data_test_size_mb = size_mb(str(data_test.data))\n",
    "\n",
    "print(\"%d documents - %0.3fMB (training set)\" % (\n",
    "    len(data_train.data), data_train_size_mb))\n",
    "print(\"%d documents - %0.3fMB (test set)\" % (\n",
    "    len(data_test.data), data_test_size_mb))\n",
    "    \n",
    "print(f\"{len(labels)} categories\")\n"
   ]
  },
  {
   "cell_type": "markdown",
   "metadata": {},
   "source": [
    "### visualize the data corpus"
   ]
  },
  {
   "cell_type": "code",
   "execution_count": 42,
   "metadata": {},
   "outputs": [
    {
     "data": {
      "image/png": "[encoded data removed]",
      "text/plain": [
       "<Figure size 432x288 with 1 Axes>"
      ]
     },
     "metadata": {
      "needs_background": "light"
     },
     "output_type": "display_data"
    }
   ],
   "source": [
    "import matplotlib.pyplot as plt\n",
    "import seaborn as sns\n",
    "sns.histplot(legal_doc.target)\n",
    "plt.show()\n"
   ]
  },
  {
   "cell_type": "markdown",
   "metadata": {},
   "source": [
    "### Printing the size of the corpus, not correct, now it is all the corpus"
   ]
  },
  {
   "cell_type": "code",
   "execution_count": 43,
   "metadata": {},
   "outputs": [],
   "source": [
    "# def size_mb(docs):\n",
    "#     return sum(len(s.encode('utf-8')) for s in docs) / 1e6\n",
    "\n",
    "\n",
    "# data_train_size_mb = size_mb(str(legal_train.data))\n",
    "# data_test_size_mb = size_mb(str(legal_train.data))\n",
    "\n",
    "# print(\"%d documents - %0.3fMB (training set)\" % (\n",
    "#     len(legal_doc.data), data_train_size_mb))\n",
    "# print(\"%d documents - %0.3fMB (test set)\" % (\n",
    "#     len(legal_doc.data), data_test_size_mb))\n",
    "# print(\"%d categories\" % len(labels))\n",
    "# print()\n"
   ]
  },
  {
   "cell_type": "markdown",
   "metadata": {},
   "source": [
    "# Feature Extraction"
   ]
  },
  {
   "cell_type": "markdown",
   "metadata": {},
   "source": [
    "## TF-idf + Vectorizer =  a subset of n-grams for model by using the vocabulary parameter."
   ]
  },
  {
   "cell_type": "code",
   "execution_count": 44,
   "metadata": {},
   "outputs": [],
   "source": [
    "import numpy as np\n",
    "import pandas as pd\n",
    "import scipy.sparse as sp\n",
    "\n",
    "from time import time\n",
    "from sklearn.feature_extraction.text import TfidfVectorizer\n",
    "from sklearn.linear_model import SGDClassifier\n",
    "from sklearn import metrics\n",
    "from sklearn.metrics import confusion_matrix, classification_report, precision_recall_curve, auc\n",
    "from sklearn.naive_bayes import MultinomialNB\n",
    "from sklearn.calibration import CalibratedClassifierCV\n",
    "\n",
    "vectorizer = TfidfVectorizer(ngram_range=(\n",
    "        1, 2), lowercase=True, sublinear_tf=True, max_df=0.5, stop_words='english')\n",
    "\n",
    "def tf_vectorizer_train(data_train):\n",
    "    t0 = time()\n",
    "    print(\"Extracting features from the dataset using a vectorizer with  unigrams and bigrams\")\n",
    "    X_train = vectorizer.fit_transform(\n",
    "        (open(f, encoding='latin1').read() for f in data_train.filenames))\n",
    "    print(\"done in %fs\" % (time() - t0))\n",
    "    print(\"n_samples: %d, n_features: %d\" % X_train.shape)\n",
    "    assert sp.issparse(X_train)\n",
    "    y_train = data_train.target\n",
    "    return X_train, y_train\n"
   ]
  },
  {
   "cell_type": "code",
   "execution_count": 45,
   "metadata": {},
   "outputs": [],
   "source": [
    "def tf_vectorizer_test(data_test):\n",
    "    print(\"Extracting features from the dataset using the same vectorizer\")\n",
    "    t0 = time()\n",
    "    X_test = vectorizer.transform(\n",
    "        (open(f, encoding='utf-8').read() for f in data_test.filenames))\n",
    "    y_test = data_test.target\n",
    "    print(\"done in %fs\" % (time() - t0))\n",
    "    print(\"n_samples: %d, n_features: %d\" % X_test.shape)\n",
    "    return X_test, y_test\n"
   ]
  },
  {
   "cell_type": "code",
   "execution_count": 46,
   "metadata": {},
   "outputs": [],
   "source": [
    "## for word embedding\n",
    "import gensim\n",
    "import gensim.downloader as gensim_api\n"
   ]
  },
  {
   "cell_type": "markdown",
   "metadata": {},
   "source": [
    "benchmark different classifiers:"
   ]
  },
  {
   "cell_type": "code",
   "execution_count": 52,
   "metadata": {},
   "outputs": [],
   "source": [
    "def benchmark(clf_class, params, name):\n",
    "    print(\"parameters:\", params)\n",
    "    t0 = time()\n",
    "    X_train, y_train = tf_vectorizer_train(data_train)\n",
    "    X_test, y_test = tf_vectorizer_test(data_test)\n",
    "    clf = clf_class(**params).fit(X_train, y_train)\n",
    "    calibrator = CalibratedClassifierCV(clf, cv='prefit')\n",
    "    clf = calibrator.fit(X_train, y_train)\n",
    "    print(\"done in %fs\" % (time() - t0))\n",
    "\n",
    "    if hasattr(clf, 'coef_'):\n",
    "        print(\"Percentage of non zeros coef: %f\" %\n",
    "              (np.mean(clf.coef_ != 0) * 100))\n",
    "    print(\"Predicting the outcomes of the testing set\")\n",
    "    t0 = time()\n",
    "    pred = clf.predict(X_test)\n",
    "    predicted_prob = clf.predict_proba(X_test)\n",
    "    print(\"done in %fs\" % (time() - t0))\n",
    "\n",
    "    print(\"Classification report on test set for classifier:\")\n",
    "    print(clf)\n",
    "    print()\n",
    "\n",
    "    ## Accuracy, Precision, Recall\n",
    "    accuracy = metrics.accuracy_score(y_test, pred)\n",
    "    auc = metrics.roc_auc_score(y_test, predicted_prob,\n",
    "                                multi_class=\"ovr\")\n",
    "    print(\"Accuracy:\",  round(accuracy, 2))\n",
    "    print(\"Auc:\", round(auc, 2))\n",
    "    print(\"Detail:\")\n",
    "    svm_classification_report_save = classification_report(y_test, pred,\n",
    "          target_names=data_test.target_names, zero_division=1)\n",
    "    print(svm_classification_report_save)\n",
    "\n",
    "    cm = confusion_matrix(y_test, pred)\n",
    "    print(\"Confusion matrix:\")\n",
    "    print(cm)\n",
    "\n",
    "    # Show confusion matrix\n",
    "    plt.matshow(cm)\n",
    "    plt.title('Confusion matrix of the %s classifier' % name)\n",
    "    plt.colorbar()\n",
    "\n",
    "    y_test_array = pd.get_dummies(y_test, drop_first=False).values\n",
    "\n",
    "    fig, ax = plt.subplots(nrows=1, ncols=2)\n",
    "\n",
    "\n",
    "    ## Plot roc\n",
    "    for i in range(len(labels)):\n",
    "        fpr, tpr, thresholds = metrics.roc_curve(y_test_array[:, i],\n",
    "                                                predicted_prob[:, i])\n",
    "        ax[0].plot(fpr, tpr, lw=3,\n",
    "                label='{0} (area={1:0.2f})'.format(labels[i],\n",
    "                                                    metrics.auc(fpr, tpr))\n",
    "                )\n",
    "    ax[0].plot([0, 1], [0, 1], color='navy', lw=3, linestyle='--')\n",
    "    ax[0].set(xlim=[-0.05, 1.0], ylim=[0.0, 1.05],\n",
    "            xlabel='False Positive Rate',\n",
    "            ylabel=\"True Positive Rate (Recall)\",\n",
    "            title=\"Receiver operating characteristic\")\n",
    "    ax[0].legend(loc=\"lower right\")\n",
    "    ax[0].grid(True)\n",
    "\n",
    "    ## Plot precision-recall curve\n",
    "    for i in range(len(labels)):\n",
    "        precision, recall, thresholds = precision_recall_curve(\n",
    "            y_test_array[:, i], predicted_prob[:, i])\n",
    "        ax[1].plot(recall, precision, lw=3,\n",
    "                label='{0} (area={1:0.2f})'.format(labels[i],\n",
    "                                                   metrics.auc(recall, precision))\n",
    "                )\n",
    "    ax[1].set(xlim=[0.0, 1.05], ylim=[0.0, 1.05], xlabel='Recall',\n",
    "            ylabel=\"Precision\", title=\"Precision-Recall curve\")\n",
    "    ax[1].legend(loc=\"best\")\n",
    "    ax[1].grid(True)\n",
    "    plt.show()\n"
   ]
  },
  {
   "cell_type": "markdown",
   "metadata": {},
   "source": [
    "### Benchmark a Linear Classifier - SGDClassifier"
   ]
  },
  {
   "cell_type": "code",
   "execution_count": 53,
   "metadata": {},
   "outputs": [
    {
     "name": "stdout",
     "output_type": "stream",
     "text": [
      " Using a linear classifier...\n",
      "parameters: {'loss': 'hinge', 'penalty': 'l2', 'max_iter': 50, 'n_iter_no_change': 5, 'alpha': 0.001, 'fit_intercept': True, 'random_state': 42}\n",
      "Extracting features from the dataset using a vectorizer with  unigrams and bigrams\n",
      "done in 1.371092s\n",
      "n_samples: 62, n_features: 187271\n",
      "Extracting features from the dataset using the same vectorizer\n",
      "done in 0.202035s\n",
      "n_samples: 18, n_features: 187271\n",
      "done in 1.751846s\n",
      "Predicting the outcomes of the testing set\n",
      "done in 0.030007s\n",
      "Classification report on test set for classifier:\n",
      "CalibratedClassifierCV(base_estimator=SGDClassifier(alpha=0.001, max_iter=50,\n",
      "                                                    random_state=42),\n",
      "                       cv='prefit')\n",
      "\n",
      "Accuracy: 0.56\n",
      "Auc: 0.79\n",
      "Detail:\n",
      "                  precision    recall  f1-score   support\n",
      "\n",
      "        Abetment       0.00      0.00      0.00         1\n",
      "         Charges       1.00      1.00      1.00         2\n",
      "Common intention       0.00      0.00      0.00         2\n",
      "      Corruption       1.00      1.00      1.00         2\n",
      " Dangerous Drugs       0.33      0.50      0.40         2\n",
      "         Defence       1.00      0.00      0.00         1\n",
      "        Firearms       0.50      1.00      0.67         2\n",
      "Money Laundering       1.00      1.00      1.00         1\n",
      "          Murder       0.33      0.50      0.40         2\n",
      "        Offences       1.00      0.00      0.00         1\n",
      "            Rape       1.00      0.00      0.00         1\n",
      "        Sedition       1.00      1.00      1.00         1\n",
      "\n",
      "        accuracy                           0.56        18\n",
      "       macro avg       0.68      0.50      0.46        18\n",
      "    weighted avg       0.63      0.56      0.50        18\n",
      "\n",
      "Confusion matrix:\n",
      "[[0 0 0 0 0 0 1 0 0 0 0 0]\n",
      " [0 2 0 0 0 0 0 0 0 0 0 0]\n",
      " [0 0 0 0 0 0 1 0 1 0 0 0]\n",
      " [0 0 0 2 0 0 0 0 0 0 0 0]\n",
      " [0 0 1 0 1 0 0 0 0 0 0 0]\n",
      " [0 0 0 0 0 0 0 0 1 0 0 0]\n",
      " [0 0 0 0 0 0 2 0 0 0 0 0]\n",
      " [0 0 0 0 0 0 0 1 0 0 0 0]\n",
      " [1 0 0 0 0 0 0 0 1 0 0 0]\n",
      " [0 0 0 0 1 0 0 0 0 0 0 0]\n",
      " [0 0 0 0 1 0 0 0 0 0 0 0]\n",
      " [0 0 0 0 0 0 0 0 0 0 0 1]]\n"
     ]
    },
    {
     "data": {
      "image/png": "[encoded data removed]",
      "text/plain": [
       "<Figure size 288x288 with 2 Axes>"
      ]
     },
     "metadata": {
      "needs_background": "light"
     },
     "output_type": "display_data"
    },
    {
     "data": {
      "image/png": "[encoded data removed]",
      "text/plain": [
       "<Figure size 432x288 with 2 Axes>"
      ]
     },
     "metadata": {
      "needs_background": "light"
     },
     "output_type": "display_data"
    }
   ],
   "source": [
    "print(\" Using a linear classifier...\")\n",
    "parameters = {\n",
    "    'loss': 'hinge',\n",
    "    'penalty': 'l2',\n",
    "    'max_iter': 50,\n",
    "    'n_iter_no_change' : 5,\n",
    "    'alpha': 1e-3,\n",
    "    'fit_intercept': True,\n",
    "    'random_state' : 42\n",
    "}\n",
    "\n",
    "benchmark(SGDClassifier, parameters, 'SGD')\n"
   ]
  },
  {
   "cell_type": "markdown",
   "metadata": {},
   "source": [
    "### Benchmark a MultinomialNB Classifier"
   ]
  },
  {
   "cell_type": "code",
   "execution_count": 70,
   "metadata": {},
   "outputs": [
    {
     "name": "stdout",
     "output_type": "stream",
     "text": [
      "Using a MultinomialNB classifier...\n",
      "parameters: {'alpha': 0.01}\n",
      "done in 0.106780s\n",
      "Percentage of non zeros coef: 100.000000\n",
      "Predicting the outcomes of the testing set\n",
      "done in 0.013506s\n",
      "Classification report on test set for classifier:\n",
      "MultinomialNB(alpha=0.01)\n",
      "\n",
      "                  precision    recall  f1-score   support\n",
      "\n",
      "        Abetment       0.00      0.00      0.00         1\n",
      "         Charges       1.00      1.00      1.00         2\n",
      "Common intention       0.33      0.50      0.40         2\n",
      "      Corruption       1.00      1.00      1.00         2\n",
      " Dangerous Drugs       0.33      0.50      0.40         2\n",
      "         Defence       1.00      0.00      0.00         1\n",
      "        Firearms       0.33      0.50      0.40         2\n",
      "Money Laundering       1.00      1.00      1.00         1\n",
      "          Murder       0.50      0.50      0.50         2\n",
      "        Offences       1.00      0.00      0.00         1\n",
      "            Rape       1.00      0.00      0.00         1\n",
      "        Sedition       1.00      1.00      1.00         1\n",
      "\n",
      "        accuracy                           0.56        18\n",
      "       macro avg       0.71      0.50      0.47        18\n",
      "    weighted avg       0.67      0.56      0.52        18\n",
      "\n",
      "Confusion matrix:\n",
      "[[0 0 0 0 0 0 1 0 0 0 0 0]\n",
      " [0 2 0 0 0 0 0 0 0 0 0 0]\n",
      " [0 0 1 0 0 0 1 0 0 0 0 0]\n",
      " [0 0 0 2 0 0 0 0 0 0 0 0]\n",
      " [0 0 1 0 1 0 0 0 0 0 0 0]\n",
      " [0 0 0 0 0 0 0 0 1 0 0 0]\n",
      " [0 0 1 0 0 0 1 0 0 0 0 0]\n",
      " [0 0 0 0 0 0 0 1 0 0 0 0]\n",
      " [1 0 0 0 0 0 0 0 1 0 0 0]\n",
      " [0 0 0 0 1 0 0 0 0 0 0 0]\n",
      " [0 0 0 0 1 0 0 0 0 0 0 0]\n",
      " [0 0 0 0 0 0 0 0 0 0 0 1]]\n"
     ]
    },
    {
     "name": "stderr",
     "output_type": "stream",
     "text": [
      "C:\\Users\\heihe\\anaconda3\\envs\\MyDocClass\\lib\\site-packages\\sklearn\\utils\\deprecation.py:101: FutureWarning: Attribute coef_ was deprecated in version 0.24 and will be removed in 1.1 (renaming of 0.26).\n",
      "  warnings.warn(msg, category=FutureWarning)\n"
     ]
    },
    {
     "data": {
      "image/png": "[encoded data removed]",
      "text/plain": [
       "<Figure size 288x288 with 2 Axes>"
      ]
     },
     "metadata": {
      "needs_background": "light"
     },
     "output_type": "display_data"
    }
   ],
   "source": [
    "print(\"Using a MultinomialNB classifier...\")\n",
    "parameters = {'alpha': 0.01}\n",
    "benchmark(MultinomialNB, parameters, 'MultinomialNB')\n"
   ]
  },
  {
   "cell_type": "markdown",
   "metadata": {},
   "source": [
    "Reduce dimension can be one of the consideration"
   ]
  },
  {
   "cell_type": "code",
   "execution_count": null,
   "metadata": {},
   "outputs": [],
   "source": [
    "from sklearn.preprocessing import Normalizer\n",
    "from sklearn.decomposition import TruncatedSVD\n",
    "\n",
    "# Reduce dimensions\n",
    "svd = TruncatedSVD(n_components)\n",
    "normalizer = Normalizer(copy=False)\n"
   ]
  },
  {
   "cell_type": "code",
   "execution_count": 98,
   "metadata": {},
   "outputs": [
    {
     "name": "stdout",
     "output_type": "stream",
     "text": [
      "62\n"
     ]
    }
   ],
   "source": [
    "print (len(data_train.data))"
   ]
  },
  {
   "cell_type": "code",
   "execution_count": 99,
   "metadata": {},
   "outputs": [
    {
     "data": {
      "text/plain": [
       "1     8\n",
       "4     8\n",
       "6     8\n",
       "2     7\n",
       "8     6\n",
       "3     5\n",
       "5     4\n",
       "9     4\n",
       "11    4\n",
       "0     3\n",
       "7     3\n",
       "10    2\n",
       "dtype: int64"
      ]
     },
     "execution_count": 99,
     "metadata": {},
     "output_type": "execute_result"
    }
   ],
   "source": [
    "pd.DataFrame(data_train.target).value_counts()"
   ]
  },
  {
   "cell_type": "markdown",
   "metadata": {},
   "source": [
    "# testing"
   ]
  },
  {
   "cell_type": "code",
   "execution_count": 100,
   "metadata": {},
   "outputs": [
    {
     "name": "stdout",
     "output_type": "stream",
     "text": [
      "Extracting features from the test data using the same vectorizer\n"
     ]
    }
   ],
   "source": [
    "# Order of labels in `target_names` can be different from `categories`\n",
    "target_names = data_train.target_names\n",
    "\n",
    "# Split a train set and test set\n",
    "y_train, y_test = data_train.target, data_test.target\n",
    "\n",
    "print(\"Extracting features from the test data using the same vectorizer\")\n",
    "X_test = vectorizer.transform(data_test.data)\n",
    "# X_test = lsa.fit_transform(X_test)\n"
   ]
  },
  {
   "cell_type": "markdown",
   "metadata": {},
   "source": [
    "# LogisticRegression()"
   ]
  },
  {
   "cell_type": "code",
   "execution_count": 101,
   "metadata": {},
   "outputs": [
    {
     "data": {
      "text/plain": [
       "LogisticRegression()"
      ]
     },
     "execution_count": 101,
     "metadata": {},
     "output_type": "execute_result"
    }
   ],
   "source": [
    "from sklearn.linear_model import LogisticRegression\n",
    "from sklearn.naive_bayes import GaussianNB, MultinomialNB\n",
    "from sklearn.svm import SVC\n",
    "\n",
    "from sklearn.feature_extraction.text import TfidfTransformer, TfidfVectorizer\n",
    "from sklearn.feature_extraction.text import HashingVectorizer, CountVectorizer\n",
    "from sklearn.metrics import accuracy_score, classification_report, confusion_matrix\n",
    "from sklearn.metrics import ConfusionMatrixDisplay\n",
    "lr_clf = LogisticRegression()\n",
    "lr_clf.fit(X_train, y_train)\n"
   ]
  },
  {
   "cell_type": "code",
   "execution_count": 102,
   "metadata": {},
   "outputs": [
    {
     "name": "stdout",
     "output_type": "stream",
     "text": [
      "Train accuracy score: 93.55%\n",
      "Test accuracy score: 33.33%\n"
     ]
    }
   ],
   "source": [
    "lr_pred = lr_clf.predict(X_train.toarray())\n",
    "train_score = accuracy_score(y_train, lr_pred) * 100\n",
    "print(f\"Train accuracy score: {train_score:.2f}%\")\n",
    "\n",
    "lr_pred = lr_clf.predict(X_test.toarray())\n",
    "test_score = accuracy_score(y_test, lr_pred) * 100\n",
    "print(f\"Test accuracy score: {test_score:.2f}%\")"
   ]
  },
  {
   "cell_type": "code",
   "execution_count": 103,
   "metadata": {},
   "outputs": [
    {
     "data": {
      "image/png": "[encoded data removed]",
      "text/plain": [
       "<Figure size 720x720 with 2 Axes>"
      ]
     },
     "metadata": {
      "needs_background": "light"
     },
     "output_type": "display_data"
    }
   ],
   "source": [
    "# lr_pred = lr_clf.predict(X_test.toarray())\n",
    "cm = confusion_matrix(y_test, lr_pred)\n",
    "disp = ConfusionMatrixDisplay(confusion_matrix=cm,\n",
    "                              display_labels=data_train.target_names)\n",
    "\n",
    "\n",
    "# NOTE: Fill all variables here with default values of the plot_confusion_matrix\n",
    "fig, ax = plt.subplots(figsize=(10, 10))\n",
    "disp = disp.plot(xticks_rotation='vertical', ax=ax, cmap='summer')\n",
    "\n",
    "plt.show()\n"
   ]
  },
  {
   "cell_type": "code",
   "execution_count": 104,
   "metadata": {},
   "outputs": [
    {
     "name": "stderr",
     "output_type": "stream",
     "text": [
      "C:\\Users\\heihe\\anaconda3\\envs\\MyDocClass\\lib\\site-packages\\sklearn\\metrics\\_classification.py:1248: UndefinedMetricWarning: Precision and F-score are ill-defined and being set to 0.0 in labels with no predicted samples. Use `zero_division` parameter to control this behavior.\n",
      "  _warn_prf(average, modifier, msg_start, len(result))\n",
      "C:\\Users\\heihe\\anaconda3\\envs\\MyDocClass\\lib\\site-packages\\sklearn\\metrics\\_classification.py:1248: UndefinedMetricWarning: Precision and F-score are ill-defined and being set to 0.0 in labels with no predicted samples. Use `zero_division` parameter to control this behavior.\n",
      "  _warn_prf(average, modifier, msg_start, len(result))\n",
      "C:\\Users\\heihe\\anaconda3\\envs\\MyDocClass\\lib\\site-packages\\sklearn\\metrics\\_classification.py:1248: UndefinedMetricWarning: Precision and F-score are ill-defined and being set to 0.0 in labels with no predicted samples. Use `zero_division` parameter to control this behavior.\n",
      "  _warn_prf(average, modifier, msg_start, len(result))\n"
     ]
    },
    {
     "data": {
      "text/html": [
       "<div>\n",
       "<style scoped>\n",
       "    .dataframe tbody tr th:only-of-type {\n",
       "        vertical-align: middle;\n",
       "    }\n",
       "\n",
       "    .dataframe tbody tr th {\n",
       "        vertical-align: top;\n",
       "    }\n",
       "\n",
       "    .dataframe thead th {\n",
       "        text-align: right;\n",
       "    }\n",
       "</style>\n",
       "<table border=\"1\" class=\"dataframe\">\n",
       "  <thead>\n",
       "    <tr style=\"text-align: right;\">\n",
       "      <th></th>\n",
       "      <th>precision</th>\n",
       "      <th>recall</th>\n",
       "      <th>f1-score</th>\n",
       "      <th>support</th>\n",
       "    </tr>\n",
       "  </thead>\n",
       "  <tbody>\n",
       "    <tr>\n",
       "      <th>0</th>\n",
       "      <td>0.000000</td>\n",
       "      <td>0.000000</td>\n",
       "      <td>0.000000</td>\n",
       "      <td>1.000000</td>\n",
       "    </tr>\n",
       "    <tr>\n",
       "      <th>1</th>\n",
       "      <td>0.500000</td>\n",
       "      <td>1.000000</td>\n",
       "      <td>0.666667</td>\n",
       "      <td>2.000000</td>\n",
       "    </tr>\n",
       "    <tr>\n",
       "      <th>2</th>\n",
       "      <td>0.000000</td>\n",
       "      <td>0.000000</td>\n",
       "      <td>0.000000</td>\n",
       "      <td>2.000000</td>\n",
       "    </tr>\n",
       "    <tr>\n",
       "      <th>3</th>\n",
       "      <td>0.000000</td>\n",
       "      <td>0.000000</td>\n",
       "      <td>0.000000</td>\n",
       "      <td>2.000000</td>\n",
       "    </tr>\n",
       "    <tr>\n",
       "      <th>4</th>\n",
       "      <td>0.200000</td>\n",
       "      <td>0.500000</td>\n",
       "      <td>0.285714</td>\n",
       "      <td>2.000000</td>\n",
       "    </tr>\n",
       "    <tr>\n",
       "      <th>5</th>\n",
       "      <td>0.000000</td>\n",
       "      <td>0.000000</td>\n",
       "      <td>0.000000</td>\n",
       "      <td>1.000000</td>\n",
       "    </tr>\n",
       "    <tr>\n",
       "      <th>6</th>\n",
       "      <td>0.333333</td>\n",
       "      <td>1.000000</td>\n",
       "      <td>0.500000</td>\n",
       "      <td>2.000000</td>\n",
       "    </tr>\n",
       "    <tr>\n",
       "      <th>7</th>\n",
       "      <td>0.000000</td>\n",
       "      <td>0.000000</td>\n",
       "      <td>0.000000</td>\n",
       "      <td>1.000000</td>\n",
       "    </tr>\n",
       "    <tr>\n",
       "      <th>8</th>\n",
       "      <td>0.500000</td>\n",
       "      <td>0.500000</td>\n",
       "      <td>0.500000</td>\n",
       "      <td>2.000000</td>\n",
       "    </tr>\n",
       "    <tr>\n",
       "      <th>9</th>\n",
       "      <td>0.000000</td>\n",
       "      <td>0.000000</td>\n",
       "      <td>0.000000</td>\n",
       "      <td>1.000000</td>\n",
       "    </tr>\n",
       "    <tr>\n",
       "      <th>10</th>\n",
       "      <td>0.000000</td>\n",
       "      <td>0.000000</td>\n",
       "      <td>0.000000</td>\n",
       "      <td>1.000000</td>\n",
       "    </tr>\n",
       "    <tr>\n",
       "      <th>11</th>\n",
       "      <td>0.000000</td>\n",
       "      <td>0.000000</td>\n",
       "      <td>0.000000</td>\n",
       "      <td>1.000000</td>\n",
       "    </tr>\n",
       "    <tr>\n",
       "      <th>accuracy</th>\n",
       "      <td>0.333333</td>\n",
       "      <td>0.333333</td>\n",
       "      <td>0.333333</td>\n",
       "      <td>0.333333</td>\n",
       "    </tr>\n",
       "    <tr>\n",
       "      <th>macro avg</th>\n",
       "      <td>0.127778</td>\n",
       "      <td>0.250000</td>\n",
       "      <td>0.162698</td>\n",
       "      <td>18.000000</td>\n",
       "    </tr>\n",
       "    <tr>\n",
       "      <th>weighted avg</th>\n",
       "      <td>0.170370</td>\n",
       "      <td>0.333333</td>\n",
       "      <td>0.216931</td>\n",
       "      <td>18.000000</td>\n",
       "    </tr>\n",
       "  </tbody>\n",
       "</table>\n",
       "</div>"
      ],
      "text/plain": [
       "              precision    recall  f1-score    support\n",
       "0              0.000000  0.000000  0.000000   1.000000\n",
       "1              0.500000  1.000000  0.666667   2.000000\n",
       "2              0.000000  0.000000  0.000000   2.000000\n",
       "3              0.000000  0.000000  0.000000   2.000000\n",
       "4              0.200000  0.500000  0.285714   2.000000\n",
       "5              0.000000  0.000000  0.000000   1.000000\n",
       "6              0.333333  1.000000  0.500000   2.000000\n",
       "7              0.000000  0.000000  0.000000   1.000000\n",
       "8              0.500000  0.500000  0.500000   2.000000\n",
       "9              0.000000  0.000000  0.000000   1.000000\n",
       "10             0.000000  0.000000  0.000000   1.000000\n",
       "11             0.000000  0.000000  0.000000   1.000000\n",
       "accuracy       0.333333  0.333333  0.333333   0.333333\n",
       "macro avg      0.127778  0.250000  0.162698  18.000000\n",
       "weighted avg   0.170370  0.333333  0.216931  18.000000"
      ]
     },
     "execution_count": 104,
     "metadata": {},
     "output_type": "execute_result"
    }
   ],
   "source": [
    "pd.DataFrame(classification_report(y_test, lr_pred, output_dict=True)).T"
   ]
  },
  {
   "cell_type": "markdown",
   "metadata": {},
   "source": [
    "# Naive Bayes (Gaussian)"
   ]
  },
  {
   "cell_type": "code",
   "execution_count": null,
   "metadata": {},
   "outputs": [],
   "source": [
    "\n"
   ]
  },
  {
   "cell_type": "code",
   "execution_count": 105,
   "metadata": {},
   "outputs": [
    {
     "data": {
      "text/plain": [
       "GaussianNB()"
      ]
     },
     "execution_count": 105,
     "metadata": {},
     "output_type": "execute_result"
    }
   ],
   "source": [
    "nb_clf = GaussianNB()\n",
    "nb_clf.fit(X_train.toarray(), y_train)\n"
   ]
  },
  {
   "cell_type": "code",
   "execution_count": 106,
   "metadata": {},
   "outputs": [
    {
     "name": "stdout",
     "output_type": "stream",
     "text": [
      "Train accuracy score: 100.00%\n",
      "Test accuracy score: 38.89%\n"
     ]
    }
   ],
   "source": [
    "nb_pred = nb_clf.predict(X_train.toarray())\n",
    "train_score = accuracy_score(y_train, nb_pred) * 100\n",
    "print(f\"Train accuracy score: {train_score:.2f}%\")\n",
    "\n",
    "nb_pred = nb_clf.predict(X_test.toarray())\n",
    "test_score = accuracy_score(y_test, nb_pred) * 100\n",
    "print(f\"Test accuracy score: {test_score:.2f}%\")\n"
   ]
  },
  {
   "cell_type": "code",
   "execution_count": 107,
   "metadata": {},
   "outputs": [
    {
     "data": {
      "image/png": "[encoded data removed]",
      "text/plain": [
       "<Figure size 720x720 with 2 Axes>"
      ]
     },
     "metadata": {
      "needs_background": "light"
     },
     "output_type": "display_data"
    }
   ],
   "source": [
    "# nb_pred = nb_clf.predict(X_test.toarray())\n",
    "cm = confusion_matrix(y_test, nb_pred)\n",
    "disp = ConfusionMatrixDisplay(confusion_matrix=cm,\n",
    "                              display_labels=data_train.target_names)\n",
    "\n",
    "\n",
    "# NOTE: Fill all variables here with default values of the plot_confusion_matrix\n",
    "fig, ax = plt.subplots(figsize=(10, 10))\n",
    "disp = disp.plot(xticks_rotation='vertical', ax=ax, cmap='summer')\n",
    "\n",
    "plt.show()\n"
   ]
  },
  {
   "cell_type": "code",
   "execution_count": 108,
   "metadata": {},
   "outputs": [
    {
     "name": "stderr",
     "output_type": "stream",
     "text": [
      "C:\\Users\\heihe\\anaconda3\\envs\\MyDocClass\\lib\\site-packages\\sklearn\\metrics\\_classification.py:1248: UndefinedMetricWarning: Precision and F-score are ill-defined and being set to 0.0 in labels with no predicted samples. Use `zero_division` parameter to control this behavior.\n",
      "  _warn_prf(average, modifier, msg_start, len(result))\n",
      "C:\\Users\\heihe\\anaconda3\\envs\\MyDocClass\\lib\\site-packages\\sklearn\\metrics\\_classification.py:1248: UndefinedMetricWarning: Precision and F-score are ill-defined and being set to 0.0 in labels with no predicted samples. Use `zero_division` parameter to control this behavior.\n",
      "  _warn_prf(average, modifier, msg_start, len(result))\n",
      "C:\\Users\\heihe\\anaconda3\\envs\\MyDocClass\\lib\\site-packages\\sklearn\\metrics\\_classification.py:1248: UndefinedMetricWarning: Precision and F-score are ill-defined and being set to 0.0 in labels with no predicted samples. Use `zero_division` parameter to control this behavior.\n",
      "  _warn_prf(average, modifier, msg_start, len(result))\n"
     ]
    },
    {
     "data": {
      "text/html": [
       "<div>\n",
       "<style scoped>\n",
       "    .dataframe tbody tr th:only-of-type {\n",
       "        vertical-align: middle;\n",
       "    }\n",
       "\n",
       "    .dataframe tbody tr th {\n",
       "        vertical-align: top;\n",
       "    }\n",
       "\n",
       "    .dataframe thead th {\n",
       "        text-align: right;\n",
       "    }\n",
       "</style>\n",
       "<table border=\"1\" class=\"dataframe\">\n",
       "  <thead>\n",
       "    <tr style=\"text-align: right;\">\n",
       "      <th></th>\n",
       "      <th>precision</th>\n",
       "      <th>recall</th>\n",
       "      <th>f1-score</th>\n",
       "      <th>support</th>\n",
       "    </tr>\n",
       "  </thead>\n",
       "  <tbody>\n",
       "    <tr>\n",
       "      <th>0</th>\n",
       "      <td>0.000000</td>\n",
       "      <td>0.000000</td>\n",
       "      <td>0.000000</td>\n",
       "      <td>1.000000</td>\n",
       "    </tr>\n",
       "    <tr>\n",
       "      <th>1</th>\n",
       "      <td>1.000000</td>\n",
       "      <td>1.000000</td>\n",
       "      <td>1.000000</td>\n",
       "      <td>2.000000</td>\n",
       "    </tr>\n",
       "    <tr>\n",
       "      <th>2</th>\n",
       "      <td>0.000000</td>\n",
       "      <td>0.000000</td>\n",
       "      <td>0.000000</td>\n",
       "      <td>2.000000</td>\n",
       "    </tr>\n",
       "    <tr>\n",
       "      <th>3</th>\n",
       "      <td>0.500000</td>\n",
       "      <td>0.500000</td>\n",
       "      <td>0.500000</td>\n",
       "      <td>2.000000</td>\n",
       "    </tr>\n",
       "    <tr>\n",
       "      <th>4</th>\n",
       "      <td>0.333333</td>\n",
       "      <td>0.500000</td>\n",
       "      <td>0.400000</td>\n",
       "      <td>2.000000</td>\n",
       "    </tr>\n",
       "    <tr>\n",
       "      <th>5</th>\n",
       "      <td>0.000000</td>\n",
       "      <td>0.000000</td>\n",
       "      <td>0.000000</td>\n",
       "      <td>1.000000</td>\n",
       "    </tr>\n",
       "    <tr>\n",
       "      <th>6</th>\n",
       "      <td>0.500000</td>\n",
       "      <td>1.000000</td>\n",
       "      <td>0.666667</td>\n",
       "      <td>2.000000</td>\n",
       "    </tr>\n",
       "    <tr>\n",
       "      <th>7</th>\n",
       "      <td>0.000000</td>\n",
       "      <td>0.000000</td>\n",
       "      <td>0.000000</td>\n",
       "      <td>1.000000</td>\n",
       "    </tr>\n",
       "    <tr>\n",
       "      <th>8</th>\n",
       "      <td>0.000000</td>\n",
       "      <td>0.000000</td>\n",
       "      <td>0.000000</td>\n",
       "      <td>2.000000</td>\n",
       "    </tr>\n",
       "    <tr>\n",
       "      <th>9</th>\n",
       "      <td>0.000000</td>\n",
       "      <td>0.000000</td>\n",
       "      <td>0.000000</td>\n",
       "      <td>1.000000</td>\n",
       "    </tr>\n",
       "    <tr>\n",
       "      <th>10</th>\n",
       "      <td>0.000000</td>\n",
       "      <td>0.000000</td>\n",
       "      <td>0.000000</td>\n",
       "      <td>1.000000</td>\n",
       "    </tr>\n",
       "    <tr>\n",
       "      <th>11</th>\n",
       "      <td>1.000000</td>\n",
       "      <td>1.000000</td>\n",
       "      <td>1.000000</td>\n",
       "      <td>1.000000</td>\n",
       "    </tr>\n",
       "    <tr>\n",
       "      <th>accuracy</th>\n",
       "      <td>0.388889</td>\n",
       "      <td>0.388889</td>\n",
       "      <td>0.388889</td>\n",
       "      <td>0.388889</td>\n",
       "    </tr>\n",
       "    <tr>\n",
       "      <th>macro avg</th>\n",
       "      <td>0.277778</td>\n",
       "      <td>0.333333</td>\n",
       "      <td>0.297222</td>\n",
       "      <td>18.000000</td>\n",
       "    </tr>\n",
       "    <tr>\n",
       "      <th>weighted avg</th>\n",
       "      <td>0.314815</td>\n",
       "      <td>0.388889</td>\n",
       "      <td>0.340741</td>\n",
       "      <td>18.000000</td>\n",
       "    </tr>\n",
       "  </tbody>\n",
       "</table>\n",
       "</div>"
      ],
      "text/plain": [
       "              precision    recall  f1-score    support\n",
       "0              0.000000  0.000000  0.000000   1.000000\n",
       "1              1.000000  1.000000  1.000000   2.000000\n",
       "2              0.000000  0.000000  0.000000   2.000000\n",
       "3              0.500000  0.500000  0.500000   2.000000\n",
       "4              0.333333  0.500000  0.400000   2.000000\n",
       "5              0.000000  0.000000  0.000000   1.000000\n",
       "6              0.500000  1.000000  0.666667   2.000000\n",
       "7              0.000000  0.000000  0.000000   1.000000\n",
       "8              0.000000  0.000000  0.000000   2.000000\n",
       "9              0.000000  0.000000  0.000000   1.000000\n",
       "10             0.000000  0.000000  0.000000   1.000000\n",
       "11             1.000000  1.000000  1.000000   1.000000\n",
       "accuracy       0.388889  0.388889  0.388889   0.388889\n",
       "macro avg      0.277778  0.333333  0.297222  18.000000\n",
       "weighted avg   0.314815  0.388889  0.340741  18.000000"
      ]
     },
     "execution_count": 108,
     "metadata": {},
     "output_type": "execute_result"
    }
   ],
   "source": [
    "pd.DataFrame(classification_report(y_test, nb_pred, output_dict=True)).T"
   ]
  },
  {
   "cell_type": "markdown",
   "metadata": {},
   "source": [
    "# Naive Bayes (Multinomial)"
   ]
  },
  {
   "cell_type": "code",
   "execution_count": 109,
   "metadata": {},
   "outputs": [
    {
     "data": {
      "text/plain": [
       "MultinomialNB()"
      ]
     },
     "execution_count": 109,
     "metadata": {},
     "output_type": "execute_result"
    }
   ],
   "source": [
    "mb_clf = MultinomialNB()\n",
    "mb_clf.fit(X_train.toarray(), y_train)\n"
   ]
  },
  {
   "cell_type": "code",
   "execution_count": 110,
   "metadata": {},
   "outputs": [
    {
     "name": "stdout",
     "output_type": "stream",
     "text": [
      "Train accuracy score: 100.00%\n",
      "Test accuracy score: 33.33%\n"
     ]
    }
   ],
   "source": [
    "mb_pred = nb_clf.predict(X_train.toarray())\n",
    "train_score = accuracy_score(y_train, mb_pred) * 100\n",
    "print(f\"Train accuracy score: {train_score:.2f}%\")\n",
    "\n",
    "mb_pred = mb_clf.predict(X_test.toarray())\n",
    "test_score = accuracy_score(y_test, mb_pred) * 100\n",
    "print(f\"Test accuracy score: {test_score:.2f}%\")\n"
   ]
  },
  {
   "cell_type": "code",
   "execution_count": 111,
   "metadata": {},
   "outputs": [
    {
     "data": {
      "image/png": "[encoded data removed]",
      "text/plain": [
       "<Figure size 720x720 with 2 Axes>"
      ]
     },
     "metadata": {
      "needs_background": "light"
     },
     "output_type": "display_data"
    }
   ],
   "source": [
    "# nb_pred = nb_clf.predict(X_test.toarray())\n",
    "cm = confusion_matrix(y_test, mb_pred)\n",
    "disp = ConfusionMatrixDisplay(confusion_matrix=cm,\n",
    "                              display_labels=data_train.target_names)\n",
    "\n",
    "\n",
    "# NOTE: Fill all variables here with default values of the plot_confusion_matrix\n",
    "fig, ax = plt.subplots(figsize=(10, 10))\n",
    "disp = disp.plot(xticks_rotation='vertical', ax=ax, cmap='summer')\n",
    "\n",
    "plt.show()\n"
   ]
  },
  {
   "cell_type": "code",
   "execution_count": 112,
   "metadata": {},
   "outputs": [
    {
     "name": "stderr",
     "output_type": "stream",
     "text": [
      "C:\\Users\\heihe\\anaconda3\\envs\\MyDocClass\\lib\\site-packages\\sklearn\\metrics\\_classification.py:1248: UndefinedMetricWarning: Precision and F-score are ill-defined and being set to 0.0 in labels with no predicted samples. Use `zero_division` parameter to control this behavior.\n",
      "  _warn_prf(average, modifier, msg_start, len(result))\n",
      "C:\\Users\\heihe\\anaconda3\\envs\\MyDocClass\\lib\\site-packages\\sklearn\\metrics\\_classification.py:1248: UndefinedMetricWarning: Precision and F-score are ill-defined and being set to 0.0 in labels with no predicted samples. Use `zero_division` parameter to control this behavior.\n",
      "  _warn_prf(average, modifier, msg_start, len(result))\n",
      "C:\\Users\\heihe\\anaconda3\\envs\\MyDocClass\\lib\\site-packages\\sklearn\\metrics\\_classification.py:1248: UndefinedMetricWarning: Precision and F-score are ill-defined and being set to 0.0 in labels with no predicted samples. Use `zero_division` parameter to control this behavior.\n",
      "  _warn_prf(average, modifier, msg_start, len(result))\n"
     ]
    },
    {
     "data": {
      "text/html": [
       "<div>\n",
       "<style scoped>\n",
       "    .dataframe tbody tr th:only-of-type {\n",
       "        vertical-align: middle;\n",
       "    }\n",
       "\n",
       "    .dataframe tbody tr th {\n",
       "        vertical-align: top;\n",
       "    }\n",
       "\n",
       "    .dataframe thead th {\n",
       "        text-align: right;\n",
       "    }\n",
       "</style>\n",
       "<table border=\"1\" class=\"dataframe\">\n",
       "  <thead>\n",
       "    <tr style=\"text-align: right;\">\n",
       "      <th></th>\n",
       "      <th>precision</th>\n",
       "      <th>recall</th>\n",
       "      <th>f1-score</th>\n",
       "      <th>support</th>\n",
       "    </tr>\n",
       "  </thead>\n",
       "  <tbody>\n",
       "    <tr>\n",
       "      <th>0</th>\n",
       "      <td>0.000000</td>\n",
       "      <td>0.000000</td>\n",
       "      <td>0.000000</td>\n",
       "      <td>1.000000</td>\n",
       "    </tr>\n",
       "    <tr>\n",
       "      <th>1</th>\n",
       "      <td>0.500000</td>\n",
       "      <td>1.000000</td>\n",
       "      <td>0.666667</td>\n",
       "      <td>2.000000</td>\n",
       "    </tr>\n",
       "    <tr>\n",
       "      <th>2</th>\n",
       "      <td>0.000000</td>\n",
       "      <td>0.000000</td>\n",
       "      <td>0.000000</td>\n",
       "      <td>2.000000</td>\n",
       "    </tr>\n",
       "    <tr>\n",
       "      <th>3</th>\n",
       "      <td>0.000000</td>\n",
       "      <td>0.000000</td>\n",
       "      <td>0.000000</td>\n",
       "      <td>2.000000</td>\n",
       "    </tr>\n",
       "    <tr>\n",
       "      <th>4</th>\n",
       "      <td>0.200000</td>\n",
       "      <td>0.500000</td>\n",
       "      <td>0.285714</td>\n",
       "      <td>2.000000</td>\n",
       "    </tr>\n",
       "    <tr>\n",
       "      <th>5</th>\n",
       "      <td>0.000000</td>\n",
       "      <td>0.000000</td>\n",
       "      <td>0.000000</td>\n",
       "      <td>1.000000</td>\n",
       "    </tr>\n",
       "    <tr>\n",
       "      <th>6</th>\n",
       "      <td>0.333333</td>\n",
       "      <td>1.000000</td>\n",
       "      <td>0.500000</td>\n",
       "      <td>2.000000</td>\n",
       "    </tr>\n",
       "    <tr>\n",
       "      <th>7</th>\n",
       "      <td>0.000000</td>\n",
       "      <td>0.000000</td>\n",
       "      <td>0.000000</td>\n",
       "      <td>1.000000</td>\n",
       "    </tr>\n",
       "    <tr>\n",
       "      <th>8</th>\n",
       "      <td>0.500000</td>\n",
       "      <td>0.500000</td>\n",
       "      <td>0.500000</td>\n",
       "      <td>2.000000</td>\n",
       "    </tr>\n",
       "    <tr>\n",
       "      <th>9</th>\n",
       "      <td>0.000000</td>\n",
       "      <td>0.000000</td>\n",
       "      <td>0.000000</td>\n",
       "      <td>1.000000</td>\n",
       "    </tr>\n",
       "    <tr>\n",
       "      <th>10</th>\n",
       "      <td>0.000000</td>\n",
       "      <td>0.000000</td>\n",
       "      <td>0.000000</td>\n",
       "      <td>1.000000</td>\n",
       "    </tr>\n",
       "    <tr>\n",
       "      <th>11</th>\n",
       "      <td>0.000000</td>\n",
       "      <td>0.000000</td>\n",
       "      <td>0.000000</td>\n",
       "      <td>1.000000</td>\n",
       "    </tr>\n",
       "    <tr>\n",
       "      <th>accuracy</th>\n",
       "      <td>0.333333</td>\n",
       "      <td>0.333333</td>\n",
       "      <td>0.333333</td>\n",
       "      <td>0.333333</td>\n",
       "    </tr>\n",
       "    <tr>\n",
       "      <th>macro avg</th>\n",
       "      <td>0.127778</td>\n",
       "      <td>0.250000</td>\n",
       "      <td>0.162698</td>\n",
       "      <td>18.000000</td>\n",
       "    </tr>\n",
       "    <tr>\n",
       "      <th>weighted avg</th>\n",
       "      <td>0.170370</td>\n",
       "      <td>0.333333</td>\n",
       "      <td>0.216931</td>\n",
       "      <td>18.000000</td>\n",
       "    </tr>\n",
       "  </tbody>\n",
       "</table>\n",
       "</div>"
      ],
      "text/plain": [
       "              precision    recall  f1-score    support\n",
       "0              0.000000  0.000000  0.000000   1.000000\n",
       "1              0.500000  1.000000  0.666667   2.000000\n",
       "2              0.000000  0.000000  0.000000   2.000000\n",
       "3              0.000000  0.000000  0.000000   2.000000\n",
       "4              0.200000  0.500000  0.285714   2.000000\n",
       "5              0.000000  0.000000  0.000000   1.000000\n",
       "6              0.333333  1.000000  0.500000   2.000000\n",
       "7              0.000000  0.000000  0.000000   1.000000\n",
       "8              0.500000  0.500000  0.500000   2.000000\n",
       "9              0.000000  0.000000  0.000000   1.000000\n",
       "10             0.000000  0.000000  0.000000   1.000000\n",
       "11             0.000000  0.000000  0.000000   1.000000\n",
       "accuracy       0.333333  0.333333  0.333333   0.333333\n",
       "macro avg      0.127778  0.250000  0.162698  18.000000\n",
       "weighted avg   0.170370  0.333333  0.216931  18.000000"
      ]
     },
     "execution_count": 112,
     "metadata": {},
     "output_type": "execute_result"
    }
   ],
   "source": [
    "pd.DataFrame(classification_report(y_test, mb_pred, output_dict=True)).T\n"
   ]
  },
  {
   "cell_type": "markdown",
   "metadata": {},
   "source": [
    "# Support Vector Machine"
   ]
  },
  {
   "cell_type": "code",
   "execution_count": 113,
   "metadata": {},
   "outputs": [
    {
     "data": {
      "text/plain": [
       "SVC()"
      ]
     },
     "execution_count": 113,
     "metadata": {},
     "output_type": "execute_result"
    }
   ],
   "source": [
    "svm_clf = SVC()\n",
    "svm_clf.fit(X_train.toarray(), y_train)\n"
   ]
  },
  {
   "cell_type": "code",
   "execution_count": 114,
   "metadata": {},
   "outputs": [
    {
     "name": "stdout",
     "output_type": "stream",
     "text": [
      "Train accuracy score: 100.00%\n",
      "Test accuracy score: 27.78%\n"
     ]
    }
   ],
   "source": [
    "svm_pred = svm_clf.predict(X_train.toarray())\n",
    "train_score = accuracy_score(y_train, svm_pred) * 100\n",
    "print(f\"Train accuracy score: {train_score:.2f}%\")\n",
    "\n",
    "svm_pred = svm_clf.predict(X_test.toarray())\n",
    "test_score = accuracy_score(y_test, svm_pred) * 100\n",
    "print(f\"Test accuracy score: {test_score:.2f}%\")\n"
   ]
  },
  {
   "cell_type": "code",
   "execution_count": 115,
   "metadata": {},
   "outputs": [
    {
     "data": {
      "image/png": "[encoded data removed]",
      "text/plain": [
       "<Figure size 720x720 with 2 Axes>"
      ]
     },
     "metadata": {
      "needs_background": "light"
     },
     "output_type": "display_data"
    }
   ],
   "source": [
    "svm_pred = svm_clf.predict(X_test.toarray())\n",
    "cm = confusion_matrix(y_test, svm_pred)\n",
    "disp = ConfusionMatrixDisplay(confusion_matrix=cm,\n",
    "                              display_labels=data_train.target_names)\n",
    "\n",
    "\n",
    "# NOTE: Fill all variables here with default values of the plot_confusion_matrix\n",
    "fig, ax = plt.subplots(figsize=(10, 10))\n",
    "disp = disp.plot(xticks_rotation='vertical', ax=ax, cmap='summer')\n",
    "\n",
    "plt.show()"
   ]
  },
  {
   "cell_type": "markdown",
   "metadata": {},
   "source": [
    "## legal"
   ]
  },
  {
   "cell_type": "code",
   "execution_count": 116,
   "metadata": {},
   "outputs": [
    {
     "name": "stdout",
     "output_type": "stream",
     "text": [
      "X_train:  64\n",
      "y_train:  [ 2 10  2  5  9  3  9  2  3  1  0 11  0  4  1  5  9  3  0  3  6  2 11 10\n",
      "  9 11  2  1  6  4  8  7  4  2  6  6  4  8  8  8  3  7  4  8  8  8  4 11\n",
      "  6  1  7  3  7  3  2  4  4 11  1  5  2  9  6  4]\n",
      "X_test:  16\n",
      "y_test:  [10  6  5  1  1  1  5  1  6  0  6  6  4  1  8  2]\n",
      "Accuracy: 0.4375, Time duration: 0.20204496383666992\n"
     ]
    },
    {
     "data": {
      "text/plain": [
       "Pipeline(steps=[('vectorizer', TfidfVectorizer()),\n",
       "                ('classifier', MultinomialNB())])"
      ]
     },
     "execution_count": 116,
     "metadata": {},
     "output_type": "execute_result"
    }
   ],
   "source": [
    ", from sklearn.naive_bayes import MultinomialNB\n",
    "from sklearn.pipeline import Pipeline\n",
    "from sklearn.feature_extraction.text import TfidfVectorizer\n",
    "\n",
    "trial1 = Pipeline([('vectorizer', TfidfVectorizer()),\n",
    "                  ('classifier', MultinomialNB())])\n",
    "\n",
    "train(trial1, legal_doc.data, legal_doc.target)\n"
   ]
  },
  {
   "cell_type": "markdown",
   "metadata": {},
   "source": [
    "# SVM"
   ]
  },
  {
   "cell_type": "code",
   "execution_count": null,
   "metadata": {},
   "outputs": [],
   "source": []
  },
  {
   "cell_type": "markdown",
   "metadata": {},
   "source": [
    "## 20NewsGroup"
   ]
  },
  {
   "cell_type": "code",
   "execution_count": 117,
   "metadata": {},
   "outputs": [],
   "source": [
    "from sklearn.datasets import fetch_20newsgroups\n",
    "labels = [\"rec.autos\", \"rec.motorcycles\",\n",
    "          \"rec.sport.baseball\", \"rec.sport.hockey\"]\n",
    "raw_docs, y = fetch_20newsgroups(\n",
    "    subset='all', return_X_y=True, categories=labels)\n",
    "# print(raw_docs)"
   ]
  }
 ],
 "metadata": {
  "interpreter": {
   "hash": "a01f87f6d2ac1d3cec04153cc9300f51485b61b999891953d74cf380e5492278"
  },
  "kernelspec": {
   "display_name": "Python 3.9.7 64-bit",
   "language": "python",
   "name": "python3"
  },
  "language_info": {
   "codemirror_mode": {
    "name": "ipython",
    "version": 3
   },
   "file_extension": ".py",
   "mimetype": "text/x-python",
   "name": "python",
   "nbconvert_exporter": "python",
   "pygments_lexer": "ipython3",
   "version": "3.9.7"
  },
  "orig_nbformat": 4
 },
 "nbformat": 4,
 "nbformat_minor": 2
}
